{
 "cells": [
  {
   "cell_type": "code",
   "execution_count": 3,
   "metadata": {},
   "outputs": [],
   "source": [
    "import urllib\n",
    "response = urllib.request.urlopen('http://deeplearning.net/tutorial/code/utils.py')\n",
    "content = response.read()\n",
    "target = open('utils.py', 'wb')\n",
    "target.write(content)\n",
    "target.close()"
   ]
  },
  {
   "cell_type": "code",
   "execution_count": 2,
   "metadata": {},
   "outputs": [
    {
     "name": "stderr",
     "output_type": "stream",
     "text": [
      "C:\\Users\\AkhouriAditya\\Anaconda2\\envs\\py36\\lib\\site-packages\\h5py\\__init__.py:36: FutureWarning: Conversion of the second argument of issubdtype from `float` to `np.floating` is deprecated. In future, it will be treated as `np.float64 == np.dtype(float).type`.\n",
      "  from ._conv import register_converters as _register_converters\n"
     ]
    }
   ],
   "source": [
    "import tensorflow as tf\n",
    "import numpy as np\n",
    "from tensorflow.examples.tutorials.mnist import input_data\n",
    "from PIL import Image\n",
    "from utils import tile_raster_images\n",
    "import matplotlib.pyplot as plt\n",
    "%matplotlib inline"
   ]
  },
  {
   "cell_type": "code",
   "execution_count": 3,
   "metadata": {},
   "outputs": [
    {
     "name": "stdout",
     "output_type": "stream",
     "text": [
      "Extracting MNIST_data/train-images-idx3-ubyte.gz\n",
      "Extracting MNIST_data/train-labels-idx1-ubyte.gz\n",
      "Extracting MNIST_data/t10k-images-idx3-ubyte.gz\n",
      "Extracting MNIST_data/t10k-labels-idx1-ubyte.gz\n"
     ]
    }
   ],
   "source": [
    "mnist = input_data.read_data_sets(\"MNIST_data/\", one_hot=True)\n",
    "trX, trY, teX, teY = mnist.train.images, mnist.train.labels, mnist.test.images, mnist.test.labels"
   ]
  },
  {
   "cell_type": "code",
   "execution_count": 5,
   "metadata": {},
   "outputs": [],
   "source": [
    "vb =tf.placeholder('float',784)\n",
    "hb =tf.placeholder('float',500)\n",
    "W =tf.placeholder('float',[784,500])"
   ]
  },
  {
   "cell_type": "code",
   "execution_count": 8,
   "metadata": {},
   "outputs": [],
   "source": [
    "X=tf.placeholder('float',[None,784])\n",
    "_h0=tf.nn.sigmoid(tf.matmul(X,W)+hb)\n",
    "h0=tf.nn.relu(tf.sign(_h0-tf.random_uniform(tf.shape(_h0))))"
   ]
  },
  {
   "cell_type": "code",
   "execution_count": 11,
   "metadata": {},
   "outputs": [
    {
     "name": "stdout",
     "output_type": "stream",
     "text": [
      "[0.7 0.1 0.8 0.2]\n",
      "[0.60483205 0.87715244 0.8276285  0.3177966 ]\n",
      "[ 0.09516793 -0.7771524  -0.02762848 -0.11779658]\n",
      "[ 1. -1. -1. -1.]\n",
      "[1. 0. 0. 0.]\n"
     ]
    }
   ],
   "source": [
    "with  tf.Session() as sess:\n",
    "    a= tf.constant([0.7, 0.1, 0.8, 0.2])\n",
    "    print (sess.run(a))\n",
    "    b=sess.run(tf.random_uniform(tf.shape(a)))\n",
    "    print (b)\n",
    "    print (sess.run(a-b))\n",
    "    print (sess.run(tf.sign( a - b)))\n",
    "    print (sess.run(tf.nn.relu(tf.sign( a - b))))"
   ]
  },
  {
   "cell_type": "code",
   "execution_count": 12,
   "metadata": {},
   "outputs": [],
   "source": [
    "_v1=tf.nn.sigmoid(tf.matmul(h0,tf.transpose(W))+vb)\n",
    "v1=tf.nn.relu(tf.sign(_v1-tf.random_uniform(tf.shape(_v1))))\n",
    "h1=tf.nn.sigmoid(tf.matmul(v1,W)+hb)"
   ]
  },
  {
   "cell_type": "code",
   "execution_count": 13,
   "metadata": {},
   "outputs": [],
   "source": [
    "alpha=1.0\n",
    "w_pos_grad=tf.matmul(tf.transpose(X),h0)\n",
    "w_neg_grad=tf.matmul(tf.transpose(v1),h1)\n",
    "CD = (w_pos_grad-w_neg_grad)/tf.to_float(tf.shape(X)[0])\n",
    "update_w=W+alpha*CD\n",
    "update_vb=vb+alpha*tf.reduce_mean(X-v1,0)\n",
    "update_hb=hb+alpha*tf.reduce_mean(h0-h1,0)"
   ]
  },
  {
   "cell_type": "code",
   "execution_count": 14,
   "metadata": {},
   "outputs": [],
   "source": [
    "err = tf.reduce_mean(tf.square(X - v1))"
   ]
  },
  {
   "cell_type": "code",
   "execution_count": 15,
   "metadata": {},
   "outputs": [],
   "source": [
    "cur_w = np.zeros([784, 500], np.float32)\n",
    "cur_vb = np.zeros([784], np.float32)\n",
    "cur_hb = np.zeros([500], np.float32)\n",
    "prv_w = np.zeros([784, 500], np.float32)\n",
    "prv_vb = np.zeros([784], np.float32)\n",
    "prv_hb = np.zeros([500], np.float32)\n",
    "sess = tf.Session()\n",
    "init = tf.global_variables_initializer()\n",
    "sess.run(init)"
   ]
  },
  {
   "cell_type": "code",
   "execution_count": 16,
   "metadata": {},
   "outputs": [
    {
     "data": {
      "text/plain": [
       "0.4812461"
      ]
     },
     "execution_count": 16,
     "metadata": {},
     "output_type": "execute_result"
    }
   ],
   "source": [
    "sess.run(err, feed_dict={X: trX, W: prv_w, vb: prv_vb, hb: prv_hb})"
   ]
  },
  {
   "cell_type": "code",
   "execution_count": 18,
   "metadata": {},
   "outputs": [
    {
     "name": "stdout",
     "output_type": "stream",
     "text": [
      "Epoch: 0 reconstruction error: 0.064296\n",
      "Epoch: 1 reconstruction error: 0.055371\n",
      "Epoch: 2 reconstruction error: 0.051024\n",
      "Epoch: 3 reconstruction error: 0.048497\n",
      "Epoch: 4 reconstruction error: 0.047007\n"
     ]
    },
    {
     "data": {
      "image/png": "[encoded data removed]",
      "text/plain": [
       "<matplotlib.figure.Figure at 0x1eead7f2908>"
      ]
     },
     "metadata": {},
     "output_type": "display_data"
    }
   ],
   "source": [
    "#Parameters\n",
    "epochs = 5\n",
    "batchsize = 100\n",
    "weights = []\n",
    "errors = []\n",
    "\n",
    "for epoch in range(epochs):\n",
    "    for start, end in zip( range(0, len(trX), batchsize), range(batchsize, len(trX), batchsize)):\n",
    "        batch = trX[start:end]\n",
    "        cur_w = sess.run(update_w, feed_dict={ X: batch, W: prv_w, vb: prv_vb, hb: prv_hb})\n",
    "        cur_vb = sess.run(update_vb, feed_dict={  X: batch, W: prv_w, vb: prv_vb, hb: prv_hb})\n",
    "        cur_hb = sess.run(update_hb, feed_dict={ X: batch, W: prv_w, vb: prv_vb, hb: prv_hb})\n",
    "        prv_w = cur_w\n",
    "        prv_vb = cur_vb\n",
    "        prv_hb = cur_hb\n",
    "        if start % 10000 == 0:\n",
    "            errors.append(sess.run(err, feed_dict={X: trX, W: cur_w, vb: cur_vb, hb: cur_hb}))\n",
    "            weights.append(cur_w)\n",
    "    print ('Epoch: %d' % epoch,'reconstruction error: %f' % errors[-1])\n",
    "plt.plot(errors)\n",
    "plt.xlabel(\"Batch Number\")\n",
    "plt.ylabel(\"Error\")\n",
    "plt.show()"
   ]
  },
  {
   "cell_type": "code",
   "execution_count": 19,
   "metadata": {},
   "outputs": [
    {
     "name": "stdout",
     "output_type": "stream",
     "text": [
      "[[-0.25987694 -0.29354978 -0.23252495 ... -0.29214412 -0.26503265\n",
      "  -0.27129805]\n",
      " [-0.30239367 -0.33995166 -0.27471364 ... -0.353151   -0.32608795\n",
      "  -0.34083554]\n",
      " [-0.25000295 -0.28500858 -0.23010798 ... -0.29000732 -0.26501557\n",
      "  -0.27004793]\n",
      " ...\n",
      " [-0.25001487 -0.2851529  -0.23003747 ... -0.29000983 -0.26503456\n",
      "  -0.2726938 ]\n",
      " [-0.25000247 -0.28500402 -0.2300258  ... -0.2900165  -0.26500994\n",
      "  -0.27001667]\n",
      " [-0.25005203 -0.28512675 -0.23397096 ... -0.2963899  -0.27507523\n",
      "  -0.27030137]]\n"
     ]
    }
   ],
   "source": [
    "uw = weights[-1].T\n",
    "print (uw) # a weight matrix of shape (500,784)"
   ]
  },
  {
   "cell_type": "code",
   "execution_count": null,
   "metadata": {},
   "outputs": [],
   "source": [
    "tile_raster_images(X=cur_w.T, img_shape=(28, 28), tile_shape=(25, 20), tile_spacing=(1, 1))\n",
    "import matplotlib.pyplot as plt\n",
    "from PIL import Image\n",
    "%matplotlib inline\n",
    "image = Image.fromarray(tile_raster_images(X=cur_w.T, img_shape=(28, 28) ,tile_shape=(25, 20), tile_spacing=(1, 1)))\n",
    "### Plot image\n",
    "plt.rcParams['figure.figsize'] = (18.0, 18.0)\n",
    "imgplot = plt.imshow(image)\n",
    "imgplot.set_cmap('gray')"
   ]
  }
 ],
 "metadata": {
  "kernelspec": {
   "display_name": "Python 3",
   "language": "python",
   "name": "python3"
  },
  "language_info": {
   "codemirror_mode": {
    "name": "ipython",
    "version": 3
   },
   "file_extension": ".py",
   "mimetype": "text/x-python",
   "name": "python",
   "nbconvert_exporter": "python",
   "pygments_lexer": "ipython3",
   "version": "3.6.4"
  }
 },
 "nbformat": 4,
 "nbformat_minor": 2
}
