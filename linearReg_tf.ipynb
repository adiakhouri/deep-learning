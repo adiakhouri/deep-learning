{
 "cells": [
  {
   "cell_type": "code",
   "execution_count": 1,
   "metadata": {},
   "outputs": [
    {
     "name": "stderr",
     "output_type": "stream",
     "text": [
      "C:\\Users\\AkhouriAditya\\Anaconda2\\envs\\py36\\lib\\site-packages\\h5py\\__init__.py:36: FutureWarning: Conversion of the second argument of issubdtype from `float` to `np.floating` is deprecated. In future, it will be treated as `np.float64 == np.dtype(float).type`.\n",
      "  from ._conv import register_converters as _register_converters\n"
     ]
    }
   ],
   "source": [
    "import numpy as np\n",
    "import tensorflow as tf\n",
    "import matplotlib.patches as mpatches\n",
    "import matplotlib.pyplot as plt\n",
    "%matplotlib inline\n",
    "plt.rcParams['figure.figsize'] = (10, 6)"
   ]
  },
  {
   "cell_type": "code",
   "execution_count": 2,
   "metadata": {},
   "outputs": [
    {
     "data": {
      "text/plain": [
       "array([0. , 0.1, 0.2, 0.3, 0.4, 0.5, 0.6, 0.7, 0.8, 0.9, 1. , 1.1, 1.2,\n",
       "       1.3, 1.4, 1.5, 1.6, 1.7, 1.8, 1.9, 2. , 2.1, 2.2, 2.3, 2.4, 2.5,\n",
       "       2.6, 2.7, 2.8, 2.9, 3. , 3.1, 3.2, 3.3, 3.4, 3.5, 3.6, 3.7, 3.8,\n",
       "       3.9, 4. , 4.1, 4.2, 4.3, 4.4, 4.5, 4.6, 4.7, 4.8, 4.9])"
      ]
     },
     "execution_count": 2,
     "metadata": {},
     "output_type": "execute_result"
    }
   ],
   "source": [
    "X = np.arange(0.0, 5.0, 0.1)\n",
    "X"
   ]
  },
  {
   "cell_type": "code",
   "execution_count": 3,
   "metadata": {},
   "outputs": [
    {
     "data": {
      "image/png": "[encoded data removed]",
      "text/plain": [
       "<matplotlib.figure.Figure at 0x22ca0347978>"
      ]
     },
     "metadata": {},
     "output_type": "display_data"
    }
   ],
   "source": [
    "##You can adjust the slope and intercept to verify the changes in the graph\n",
    "a=1\n",
    "b=0\n",
    "\n",
    "Y= a*X + b \n",
    "\n",
    "plt.plot(X,Y) \n",
    "plt.ylabel('Dependent Variable')\n",
    "plt.xlabel('Indepdendent Variable')\n",
    "plt.show()"
   ]
  },
  {
   "cell_type": "code",
   "execution_count": 4,
   "metadata": {},
   "outputs": [],
   "source": [
    "x_data = np.random.rand(100).astype(np.float32)\n",
    "y_data = x_data * 3 + 2"
   ]
  },
  {
   "cell_type": "code",
   "execution_count": 5,
   "metadata": {},
   "outputs": [
    {
     "data": {
      "text/plain": [
       "array([3.45844194, 3.42988838, 2.79834055, 2.80679714, 4.55842544,\n",
       "       2.40300562, 3.35179667, 4.87417737, 4.19326491, 2.35489547,\n",
       "       2.41847305, 3.52144973, 2.69856751, 3.9653616 , 3.40424117,\n",
       "       3.71092211, 5.029537  , 4.85261986, 3.78043427, 4.1476461 ,\n",
       "       2.53777005, 3.84396059, 3.99865388, 4.69331474, 3.16852652,\n",
       "       3.10279683, 2.45287029, 2.76932747, 2.26006518, 2.61712043,\n",
       "       4.44034601, 3.9407346 , 4.06150722, 2.33526816, 4.27106572,\n",
       "       2.369948  , 3.53810785, 2.89517792, 2.8159937 , 5.03292773,\n",
       "       2.61124581, 2.32482256, 3.5581189 , 2.98348896, 4.59419107,\n",
       "       3.40771079, 3.61894531, 3.42135639, 4.94851952, 4.08699031,\n",
       "       4.73052906, 4.88066408, 4.88512779, 4.15400805, 4.47566101,\n",
       "       3.26726243, 4.18037397, 3.75338   , 4.6522427 , 4.57764287,\n",
       "       2.71805341, 4.9020891 , 3.69659264, 2.71214984, 3.12835934,\n",
       "       2.62793076, 3.49757856, 2.63510816, 4.23861157, 4.2759312 ,\n",
       "       3.12412581, 2.21688838, 2.15094086, 4.92494831, 3.62570865,\n",
       "       2.96314079, 4.30720463, 3.09239203, 2.81238613, 2.13546913,\n",
       "       2.90079477, 4.39643926, 2.35607267, 3.11402746, 3.8053196 ,\n",
       "       3.51795722, 3.31329821, 2.4721228 , 4.76857595, 3.41504367,\n",
       "       3.15192781, 3.98956585, 2.76942913, 4.63839894, 4.2353938 ,\n",
       "       2.52430073, 3.26323972, 4.58564348, 3.35910288, 2.87301102])"
      ]
     },
     "execution_count": 5,
     "metadata": {},
     "output_type": "execute_result"
    }
   ],
   "source": [
    "y_data = x_data * 3 + 2\n",
    "y_data = np.vectorize(lambda y: y + np.random.normal(loc=0.0, scale=0.1))(y_data)\n",
    "y_data"
   ]
  },
  {
   "cell_type": "code",
   "execution_count": 18,
   "metadata": {},
   "outputs": [],
   "source": [
    "init = tf.global_variables_initializer()\n",
    "sess = tf.Session()\n",
    "sess.run(init)"
   ]
  },
  {
   "cell_type": "code",
   "execution_count": 19,
   "metadata": {},
   "outputs": [
    {
     "name": "stdout",
     "output_type": "stream",
     "text": [
      "0 [2.5840669, 3.026998]\n",
      "5 [2.446085, 2.3117924]\n",
      "10 [2.5855882, 2.2377646]\n",
      "15 [2.6863015, 2.1834614]\n",
      "20 [2.7592711, 2.1441185]\n",
      "25 [2.8121393, 2.1156137]\n",
      "30 [2.8504436, 2.0949614]\n",
      "35 [2.878196, 2.0799983]\n",
      "40 [2.8983033, 2.0691571]\n",
      "45 [2.9128714, 2.0613024]\n",
      "50 [2.9234264, 2.0556114]\n",
      "55 [2.931074, 2.0514882]\n",
      "60 [2.9366145, 2.048501]\n",
      "65 [2.9406288, 2.0463364]\n",
      "70 [2.9435372, 2.0447683]\n",
      "75 [2.9456446, 2.043632]\n",
      "80 [2.9471712, 2.042809]\n",
      "85 [2.9482775, 2.0422127]\n",
      "90 [2.949079, 2.0417805]\n",
      "95 [2.9496596, 2.0414674]\n"
     ]
    }
   ],
   "source": [
    "train_data = []\n",
    "for step in range(100):\n",
    "    evals = sess.run([train,a,b])[1:]\n",
    "    if step % 5 == 0:\n",
    "        print(step, evals)\n",
    "        train_data.append(evals)"
   ]
  },
  {
   "cell_type": "code",
   "execution_count": 20,
   "metadata": {},
   "outputs": [
    {
     "data": {
      "image/png": "[encoded data removed]",
      "text/plain": [
       "<matplotlib.figure.Figure at 0x22ca1817be0>"
      ]
     },
     "metadata": {},
     "output_type": "display_data"
    }
   ],
   "source": [
    "converter = plt.colors\n",
    "cr, cg, cb = (1.0, 1.0, 0.0)\n",
    "for f in train_data:\n",
    "    cb += 1.0 / len(train_data)\n",
    "    cg -= 1.0 / len(train_data)\n",
    "    if cb > 1.0: cb = 1.0\n",
    "    if cg < 0.0: cg = 0.0\n",
    "    [a, b] = f\n",
    "    f_y = np.vectorize(lambda x: a*x + b)(x_data)\n",
    "    line = plt.plot(x_data, f_y)\n",
    "    plt.setp(line, color=(cr,cg,cb))\n",
    "\n",
    "plt.plot(x_data, y_data, 'ro')\n",
    "\n",
    "\n",
    "green_line = mpatches.Patch(color='red', label='Data Points')\n",
    "\n",
    "plt.legend(handles=[green_line])\n",
    "\n",
    "plt.show()"
   ]
  },
  {
   "cell_type": "code",
   "execution_count": null,
   "metadata": {},
   "outputs": [],
   "source": [
    "dd = zip(x_data,y_data)\n",
    "#print(dd[0:5])"
   ]
  },
  {
   "cell_type": "code",
   "execution_count": 13,
   "metadata": {},
   "outputs": [],
   "source": [
    "a = tf.Variable(1.0)\n",
    "b = tf.Variable(0.2)\n",
    "y = a * x_data + b"
   ]
  },
  {
   "cell_type": "code",
   "execution_count": 15,
   "metadata": {},
   "outputs": [],
   "source": [
    "loss = tf.reduce_mean(tf.square(y-y_data))"
   ]
  },
  {
   "cell_type": "code",
   "execution_count": 16,
   "metadata": {},
   "outputs": [],
   "source": [
    "optimizer = tf.train.GradientDescentOptimizer(0.5)\n",
    "train = optimizer.minimize(loss)"
   ]
  }
 ],
 "metadata": {
  "kernelspec": {
   "display_name": "Python 3",
   "language": "python",
   "name": "python3"
  },
  "language_info": {
   "codemirror_mode": {
    "name": "ipython",
    "version": 3
   },
   "file_extension": ".py",
   "mimetype": "text/x-python",
   "name": "python",
   "nbconvert_exporter": "python",
   "pygments_lexer": "ipython3",
   "version": "3.6.4"
  }
 },
 "nbformat": 4,
 "nbformat_minor": 2
}
