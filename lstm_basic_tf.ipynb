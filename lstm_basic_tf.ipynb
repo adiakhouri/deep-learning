{
 "cells": [
  {
   "cell_type": "code",
   "execution_count": 1,
   "metadata": {},
   "outputs": [
    {
     "name": "stderr",
     "output_type": "stream",
     "text": [
      "C:\\Users\\AkhouriAditya\\Anaconda2\\envs\\py36\\lib\\site-packages\\h5py\\__init__.py:36: FutureWarning: Conversion of the second argument of issubdtype from `float` to `np.floating` is deprecated. In future, it will be treated as `np.float64 == np.dtype(float).type`.\n",
      "  from ._conv import register_converters as _register_converters\n"
     ]
    }
   ],
   "source": [
    "import numpy as np\n",
    "import tensorflow as tf\n",
    "sess=tf.Session()"
   ]
  },
  {
   "cell_type": "code",
   "execution_count": 2,
   "metadata": {},
   "outputs": [
    {
     "data": {
      "text/plain": [
       "(<tf.Tensor 'zeros:0' shape=(2, 4) dtype=float32>,\n",
       " <tf.Tensor 'zeros:0' shape=(2, 4) dtype=float32>)"
      ]
     },
     "execution_count": 2,
     "metadata": {},
     "output_type": "execute_result"
    }
   ],
   "source": [
    "LSTM_CELL_SIZE = 4  # output size (dimension), which is same as hidden size in the cell\n",
    "\n",
    "lstm_cell = tf.contrib.rnn.BasicLSTMCell(LSTM_CELL_SIZE, state_is_tuple=True)\n",
    "state = (tf.zeros([2,LSTM_CELL_SIZE]),)*2\n",
    "state"
   ]
  },
  {
   "cell_type": "code",
   "execution_count": 5,
   "metadata": {},
   "outputs": [
    {
     "name": "stdout",
     "output_type": "stream",
     "text": [
      "[[1. 2. 3. 4. 3. 2.]\n",
      " [3. 2. 2. 2. 2. 2.]]\n"
     ]
    }
   ],
   "source": [
    "sample_inp = tf.constant([[1,2,3,4,3,2],[3,2,2,2,2,2]],dtype=tf.float32)\n",
    "print(sess.run(sample_inp))"
   ]
  },
  {
   "cell_type": "code",
   "execution_count": 7,
   "metadata": {},
   "outputs": [
    {
     "name": "stdout",
     "output_type": "stream",
     "text": [
      "[[-0.2942368  -0.2419689  -0.07741059  0.6640707 ]\n",
      " [-0.03015879 -0.3559764  -0.1198595   0.3626583 ]]\n",
      "LSTMStateTuple(c=array([[-0.49986035, -0.55222404, -0.6384523 ,  0.8846347 ],\n",
      "       [-0.05463266, -0.66045123, -0.6263808 ,  0.6568781 ]],\n",
      "      dtype=float32), h=array([[-0.2942368 , -0.2419689 , -0.07741059,  0.6640707 ],\n",
      "       [-0.03015879, -0.3559764 , -0.1198595 ,  0.3626583 ]],\n",
      "      dtype=float32))\n"
     ]
    }
   ],
   "source": [
    "with tf.variable_scope('lstm_sample'):\n",
    "    output,state_new=lstm_cell(sample_inp,state)\n",
    "sess.run(tf.global_variables_initializer())\n",
    "print(sess.run(output))\n",
    "print(sess.run(state_new))"
   ]
  },
  {
   "cell_type": "code",
   "execution_count": 9,
   "metadata": {},
   "outputs": [],
   "source": [
    "LSTM_CELL_SIZE = 4  #4 hidden nodes = state_dim = the output_dim \n",
    "input_dim = 6\n",
    "num_layers = 2"
   ]
  },
  {
   "cell_type": "code",
   "execution_count": 11,
   "metadata": {},
   "outputs": [],
   "source": [
    "cells=[]\n",
    "for _ in range(num_layers):\n",
    "    cell = tf.contrib.rnn.LSTMCell(LSTM_CELL_SIZE)\n",
    "    cells.append(cell)\n",
    "stacked_lstm=tf.contrib.rnn.MultiRNNCell(cells)"
   ]
  },
  {
   "cell_type": "code",
   "execution_count": 17,
   "metadata": {},
   "outputs": [],
   "source": [
    "data=tf.placeholder(tf.float32,[None,None,input_dim])\n",
    "output,state=tf.nn.dynamic_rnn(cell,data,dtype=tf.float32)"
   ]
  },
  {
   "cell_type": "code",
   "execution_count": 18,
   "metadata": {},
   "outputs": [
    {
     "data": {
      "text/plain": [
       "[[[1, 2, 3, 4, 3, 2], [1, 2, 1, 1, 1, 2], [1, 2, 2, 2, 2, 2]],\n",
       " [[1, 2, 3, 4, 3, 2], [3, 2, 2, 1, 1, 2], [0, 0, 0, 0, 3, 2]]]"
      ]
     },
     "execution_count": 18,
     "metadata": {},
     "output_type": "execute_result"
    }
   ],
   "source": [
    "#input sequence length is 3, and the dimensionality of the inputs is 6.\n",
    "#The input should be a Tensor of shape: [batch_size, max_time, dimension], in our case it would be (2, 3, 6)\n",
    "#Batch size x time steps x features.\n",
    "sample_input = [[[1,2,3,4,3,2],[1,2,1,1,1,2],[1,2,2,2,2,2]],[[1,2,3,4,3,2],[3,2,2,1,1,2],[0,0,0,0,3,2]]]\n",
    "sample_input"
   ]
  },
  {
   "cell_type": "code",
   "execution_count": 21,
   "metadata": {},
   "outputs": [
    {
     "data": {
      "text/plain": [
       "array([[[-0.01026246,  0.03243307,  0.0674006 , -0.27015474],\n",
       "        [-0.18756633,  0.09216511,  0.22321768, -0.26076153],\n",
       "        [-0.19298032,  0.11102337,  0.30076635, -0.31592256]],\n",
       "\n",
       "       [[-0.01026246,  0.03243307,  0.0674006 , -0.27015474],\n",
       "        [-0.21478483, -0.00843339,  0.32131952, -0.33091554],\n",
       "        [-0.08279471,  0.22134057,  0.234205  ,  0.20588288]]],\n",
       "      dtype=float32)"
      ]
     },
     "execution_count": 21,
     "metadata": {},
     "output_type": "execute_result"
    }
   ],
   "source": [
    "sess.run(tf.global_variables_initializer())\n",
    "sess.run(output,feed_dict={data:sample_input})"
   ]
  },
  {
   "cell_type": "code",
   "execution_count": 22,
   "metadata": {},
   "outputs": [
    {
     "data": {
      "text/plain": [
       "LSTMStateTuple(c=array([[-0.32989222,  0.20382322,  0.38626155, -0.4145251 ],\n",
       "       [-0.09593959,  0.25959614,  0.27071953,  0.23922989]],\n",
       "      dtype=float32), h=array([[-0.19298032,  0.11102337,  0.30076635, -0.31592256],\n",
       "       [-0.08279471,  0.22134057,  0.234205  ,  0.20588288]],\n",
       "      dtype=float32))"
      ]
     },
     "execution_count": 22,
     "metadata": {},
     "output_type": "execute_result"
    }
   ],
   "source": [
    "sess.run(state, feed_dict={data:sample_input})"
   ]
  }
 ],
 "metadata": {
  "kernelspec": {
   "display_name": "Python 3",
   "language": "python",
   "name": "python3"
  },
  "language_info": {
   "codemirror_mode": {
    "name": "ipython",
    "version": 3
   },
   "file_extension": ".py",
   "mimetype": "text/x-python",
   "name": "python",
   "nbconvert_exporter": "python",
   "pygments_lexer": "ipython3",
   "version": "3.6.4"
  }
 },
 "nbformat": 4,
 "nbformat_minor": 2
}
