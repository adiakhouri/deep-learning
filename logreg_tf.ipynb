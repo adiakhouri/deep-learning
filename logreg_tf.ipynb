{
 "cells": [
  {
   "cell_type": "code",
   "execution_count": 1,
   "metadata": {},
   "outputs": [
    {
     "name": "stderr",
     "output_type": "stream",
     "text": [
      "C:\\Users\\AkhouriAditya\\Anaconda2\\envs\\py36\\lib\\site-packages\\h5py\\__init__.py:36: FutureWarning: Conversion of the second argument of issubdtype from `float` to `np.floating` is deprecated. In future, it will be treated as `np.float64 == np.dtype(float).type`.\n",
      "  from ._conv import register_converters as _register_converters\n",
      "C:\\Users\\AkhouriAditya\\Anaconda2\\envs\\py36\\lib\\site-packages\\sklearn\\cross_validation.py:41: DeprecationWarning: This module was deprecated in version 0.18 in favor of the model_selection module into which all the refactored classes and functions are moved. Also note that the interface of the new CV iterators are different from that of this module. This module will be removed in 0.20.\n",
      "  \"This module will be removed in 0.20.\", DeprecationWarning)\n"
     ]
    }
   ],
   "source": [
    "import tensorflow as tf\n",
    "import pandas as pd\n",
    "import numpy as np\n",
    "import time\n",
    "from sklearn.datasets import load_iris\n",
    "from sklearn.cross_validation import train_test_split\n",
    "import matplotlib.pyplot as plt"
   ]
  },
  {
   "cell_type": "code",
   "execution_count": 14,
   "metadata": {},
   "outputs": [],
   "source": [
    "iris = load_iris()\n",
    "iris_X, iris_y = iris.data[:-1,:], iris.target[:-1]\n",
    "iris_y= pd.get_dummies(iris_y).values\n",
    "trainX, testX, trainY, testY = train_test_split(iris_X, iris_y, test_size=0.33, random_state=42)"
   ]
  },
  {
   "cell_type": "code",
   "execution_count": 15,
   "metadata": {},
   "outputs": [],
   "source": [
    "# numFeatures is the number of features in our input data.\n",
    "# In the iris dataset, this number is '4'.\n",
    "numFeatures = trainX.shape[1]\n",
    "\n",
    "# numLabels is the number of classes our data points can be in.\n",
    "# In the iris dataset, this number is '3'.\n",
    "numLabels = trainY.shape[1]\n",
    "\n",
    "\n",
    "# Placeholders\n",
    "# 'None' means TensorFlow shouldn't expect a fixed number in that dimension\n",
    "X = tf.placeholder(tf.float32, [None, numFeatures]) # Iris has 4 features, so X is a tensor to hold our data.\n",
    "yGold = tf.placeholder(tf.float32, [None, numLabels]) # This will be our correct answers matrix for 3 classes."
   ]
  },
  {
   "cell_type": "code",
   "execution_count": 16,
   "metadata": {},
   "outputs": [],
   "source": [
    "W = tf.Variable(tf.zeros([4, 3]))  # 4-dimensional input and  3 classes\n",
    "b = tf.Variable(tf.zeros([3])) # 3-dimensional output [0,0,1],[0,1,0],[1,0,0]"
   ]
  },
  {
   "cell_type": "code",
   "execution_count": 17,
   "metadata": {},
   "outputs": [],
   "source": [
    "weights = tf.Variable(tf.random_normal([numFeatures,numLabels],mean=0,stddev=0.01,name=\"weights\"))\n",
    "bias = tf.Variable(tf.random_normal([1,numLabels],mean=0,stddev=0.01,name='bias'))"
   ]
  },
  {
   "cell_type": "code",
   "execution_count": 19,
   "metadata": {},
   "outputs": [],
   "source": [
    "apply_weights_op = tf.matmul(X, weights, name='apply_weights')\n",
    "add_bias_op = tf.add(apply_weights_op,bias, name='apply_bias')\n",
    "activation_op = tf.nn.sigmoid(add_bias_op, name='activation')"
   ]
  },
  {
   "cell_type": "code",
   "execution_count": 21,
   "metadata": {},
   "outputs": [],
   "source": [
    "#num epochs in training\n",
    "numEpochs=700\n",
    "#Defining our learning rate iterations\n",
    "learningRate=tf.train.exponential_decay(learning_rate= 0.0008,global_step=1,decay_steps=trainX.shape[0],decay_rate=0.95,staircase=True)"
   ]
  },
  {
   "cell_type": "code",
   "execution_count": 23,
   "metadata": {},
   "outputs": [],
   "source": [
    "#Defining our cost function - Squared Mean Error\n",
    "cost_OP = tf.nn.l2_loss(activation_op-yGold, name=\"squared_error_cost\")\n",
    "\n",
    "#Defining our Gradient Descent\n",
    "training_OP = tf.train.GradientDescentOptimizer(learningRate).minimize(cost_OP)"
   ]
  },
  {
   "cell_type": "code",
   "execution_count": 24,
   "metadata": {},
   "outputs": [],
   "source": [
    "# Create a tensorflow session\n",
    "sess = tf.Session()\n",
    "\n",
    "# Initialize our weights and biases variables.\n",
    "init_OP = tf.global_variables_initializer()\n",
    "\n",
    "# Initialize all tensorflow variables\n",
    "sess.run(init_OP)"
   ]
  },
  {
   "cell_type": "code",
   "execution_count": 27,
   "metadata": {},
   "outputs": [],
   "source": [
    "# argmax(activation_OP, 1) returns the label with the most probability\n",
    "# argmax(yGold, 1) is the correct label\n",
    "correct_predictions_OP = tf.equal(tf.argmax(activation_op,1),tf.argmax(yGold,1))\n",
    "\n",
    "# If every false prediction is 0 and every true prediction is 1, the average returns us the accuracy\n",
    "accuracy_OP = tf.reduce_mean(tf.cast(correct_predictions_OP, \"float\"))\n",
    "\n",
    "# Summary op for regression output\n",
    "activation_summary_OP = tf.summary.histogram(\"output\", activation_op)\n",
    "\n",
    "# Summary op for accuracy\n",
    "accuracy_summary_OP = tf.summary.scalar(\"accuracy\", accuracy_OP)\n",
    "\n",
    "# Summary op for cost\n",
    "cost_summary_OP = tf.summary.scalar(\"cost\", cost_OP)\n",
    "\n",
    "# Summary ops to check how variables (W, b) are updating after each iteration\n",
    "weightSummary = tf.summary.histogram(\"weights\", weights.eval(session=sess))\n",
    "biasSummary = tf.summary.histogram(\"biases\", bias.eval(session=sess))\n",
    "\n",
    "# Merge all summaries\n",
    "merged = tf.summary.merge([activation_summary_OP, accuracy_summary_OP, cost_summary_OP, weightSummary, biasSummary])\n",
    "\n",
    "# Summary writer\n",
    "writer = tf.summary.FileWriter(\"summary_logs\", sess.graph)"
   ]
  },
  {
   "cell_type": "code",
   "execution_count": 28,
   "metadata": {},
   "outputs": [
    {
     "name": "stdout",
     "output_type": "stream",
     "text": [
      "step 0, training accuracy 0.333333, cost 34.9482, change in cost 34.9482\n",
      "step 10, training accuracy 0.555556, cost 30.1845, change in cost 4.76363\n",
      "step 20, training accuracy 0.646465, cost 28.2293, change in cost 1.95524\n",
      "step 30, training accuracy 0.646465, cost 26.5803, change in cost 1.64904\n",
      "step 40, training accuracy 0.646465, cost 25.2101, change in cost 1.37012\n",
      "step 50, training accuracy 0.646465, cost 24.078, change in cost 1.13214\n",
      "step 60, training accuracy 0.646465, cost 23.1406, change in cost 0.937386\n",
      "step 70, training accuracy 0.646465, cost 22.3595, change in cost 0.781158\n",
      "step 80, training accuracy 0.646465, cost 21.7027, change in cost 0.656727\n",
      "step 90, training accuracy 0.646465, cost 21.1452, change in cost 0.557568\n",
      "step 100, training accuracy 0.656566, cost 20.667, change in cost 0.478163\n",
      "step 110, training accuracy 0.666667, cost 20.2529, change in cost 0.414129\n",
      "step 120, training accuracy 0.666667, cost 19.8908, change in cost 0.362064\n",
      "step 130, training accuracy 0.666667, cost 19.5714, change in cost 0.319351\n",
      "step 140, training accuracy 0.666667, cost 19.2874, change in cost 0.284014\n",
      "step 150, training accuracy 0.666667, cost 19.0329, change in cost 0.254524\n",
      "step 160, training accuracy 0.676768, cost 18.8032, change in cost 0.229706\n",
      "step 170, training accuracy 0.686869, cost 18.5945, change in cost 0.208672\n",
      "step 180, training accuracy 0.69697, cost 18.4038, change in cost 0.190685\n",
      "step 190, training accuracy 0.707071, cost 18.2286, change in cost 0.175224\n",
      "step 200, training accuracy 0.717172, cost 18.0668, change in cost 0.161833\n",
      "step 210, training accuracy 0.737374, cost 17.9166, change in cost 0.150154\n",
      "step 220, training accuracy 0.737374, cost 17.7767, change in cost 0.139931\n",
      "step 230, training accuracy 0.747475, cost 17.6458, change in cost 0.130913\n",
      "step 240, training accuracy 0.757576, cost 17.5229, change in cost 0.122923\n",
      "step 250, training accuracy 0.767677, cost 17.4071, change in cost 0.115807\n",
      "step 260, training accuracy 0.787879, cost 17.2976, change in cost 0.109446\n",
      "step 270, training accuracy 0.787879, cost 17.1939, change in cost 0.103724\n",
      "step 280, training accuracy 0.787879, cost 17.0953, change in cost 0.0985641\n",
      "step 290, training accuracy 0.787879, cost 17.0014, change in cost 0.0938911\n",
      "step 300, training accuracy 0.79798, cost 16.9118, change in cost 0.0896416\n",
      "step 310, training accuracy 0.79798, cost 16.826, change in cost 0.0857601\n",
      "step 320, training accuracy 0.79798, cost 16.7438, change in cost 0.0822067\n",
      "step 330, training accuracy 0.79798, cost 16.6649, change in cost 0.0789528\n",
      "step 340, training accuracy 0.79798, cost 16.5889, change in cost 0.0759392\n",
      "step 350, training accuracy 0.818182, cost 16.5158, change in cost 0.073164\n",
      "step 360, training accuracy 0.828283, cost 16.4452, change in cost 0.070591\n",
      "step 370, training accuracy 0.838384, cost 16.377, change in cost 0.0681992\n",
      "step 380, training accuracy 0.838384, cost 16.311, change in cost 0.0659695\n",
      "step 390, training accuracy 0.838384, cost 16.2471, change in cost 0.0638943\n",
      "step 400, training accuracy 0.848485, cost 16.1852, change in cost 0.0619431\n",
      "step 410, training accuracy 0.848485, cost 16.1251, change in cost 0.0601177\n",
      "step 420, training accuracy 0.848485, cost 16.0667, change in cost 0.0584049\n",
      "step 430, training accuracy 0.848485, cost 16.0099, change in cost 0.0567875\n",
      "step 440, training accuracy 0.858586, cost 15.9546, change in cost 0.0552645\n",
      "step 450, training accuracy 0.868687, cost 15.9008, change in cost 0.0538216\n",
      "step 460, training accuracy 0.868687, cost 15.8483, change in cost 0.0524616\n",
      "step 470, training accuracy 0.878788, cost 15.7972, change in cost 0.0511637\n",
      "step 480, training accuracy 0.878788, cost 15.7472, change in cost 0.0499392\n",
      "step 490, training accuracy 0.878788, cost 15.6985, change in cost 0.0487671\n",
      "step 500, training accuracy 0.878788, cost 15.6508, change in cost 0.047657\n",
      "step 510, training accuracy 0.878788, cost 15.6042, change in cost 0.0465927\n",
      "step 520, training accuracy 0.878788, cost 15.5586, change in cost 0.045578\n",
      "step 530, training accuracy 0.878788, cost 15.514, change in cost 0.0446119\n",
      "step 540, training accuracy 0.888889, cost 15.4703, change in cost 0.0436773\n",
      "step 550, training accuracy 0.89899, cost 15.4275, change in cost 0.0427904\n",
      "step 560, training accuracy 0.89899, cost 15.3856, change in cost 0.0419378\n",
      "step 570, training accuracy 0.89899, cost 15.3445, change in cost 0.0411158\n",
      "step 580, training accuracy 0.89899, cost 15.3042, change in cost 0.0403252\n",
      "step 590, training accuracy 0.89899, cost 15.2646, change in cost 0.0395699\n",
      "step 600, training accuracy 0.909091, cost 15.2258, change in cost 0.0388346\n",
      "step 610, training accuracy 0.909091, cost 15.1876, change in cost 0.0381269\n",
      "step 620, training accuracy 0.909091, cost 15.1502, change in cost 0.0374498\n",
      "step 630, training accuracy 0.909091, cost 15.1134, change in cost 0.0367928\n",
      "step 640, training accuracy 0.909091, cost 15.0772, change in cost 0.0361576\n",
      "step 650, training accuracy 0.909091, cost 15.0417, change in cost 0.0355434\n",
      "step 660, training accuracy 0.909091, cost 15.0067, change in cost 0.0349455\n",
      "step 670, training accuracy 0.909091, cost 14.9724, change in cost 0.0343742\n",
      "step 680, training accuracy 0.909091, cost 14.9386, change in cost 0.0338106\n",
      "step 690, training accuracy 0.909091, cost 14.9053, change in cost 0.0332747\n",
      "final accuracy on test set: 0.9\n"
     ]
    }
   ],
   "source": [
    "# Initialize reporting variables\n",
    "cost = 0\n",
    "diff = 1\n",
    "epoch_values = []\n",
    "accuracy_values = []\n",
    "cost_values = []\n",
    "\n",
    "# Training epochs\n",
    "for i in range(numEpochs):\n",
    "    if i > 1 and diff < .0001:\n",
    "        print(\"change in cost %g; convergence.\"%diff)\n",
    "        break\n",
    "    else:\n",
    "        # Run training step\n",
    "        step = sess.run(training_OP, feed_dict={X: trainX, yGold: trainY})\n",
    "        # Report occasional stats\n",
    "        if i % 10 == 0:\n",
    "            # Add epoch to epoch_values\n",
    "            epoch_values.append(i)\n",
    "            # Generate accuracy stats on test data\n",
    "            train_accuracy, newCost = sess.run([accuracy_OP, cost_OP], feed_dict={X: trainX, yGold: trainY})\n",
    "            # Add accuracy to live graphing variable\n",
    "            accuracy_values.append(train_accuracy)\n",
    "            # Add cost to live graphing variable\n",
    "            cost_values.append(newCost)\n",
    "            # Re-assign values for variables\n",
    "            diff = abs(newCost - cost)\n",
    "            cost = newCost\n",
    "\n",
    "            #generate print statements\n",
    "            print(\"step %d, training accuracy %g, cost %g, change in cost %g\"%(i, train_accuracy, newCost, diff))\n",
    "\n",
    "\n",
    "# How well do we perform on held-out test data?\n",
    "print(\"final accuracy on test set: %s\" %str(sess.run(accuracy_OP,feed_dict={X: testX,yGold: testY})))"
   ]
  },
  {
   "cell_type": "code",
   "execution_count": 29,
   "metadata": {},
   "outputs": [
    {
     "name": "stderr",
     "output_type": "stream",
     "text": [
      "C:\\Users\\AkhouriAditya\\Anaconda2\\envs\\py36\\lib\\site-packages\\numpy\\core\\fromnumeric.py:2957: RuntimeWarning: Mean of empty slice.\n",
      "  out=out, **kwargs)\n",
      "C:\\Users\\AkhouriAditya\\Anaconda2\\envs\\py36\\lib\\site-packages\\numpy\\core\\_methods.py:80: RuntimeWarning: invalid value encountered in double_scalars\n",
      "  ret = ret.dtype.type(ret / rcount)\n"
     ]
    },
    {
     "data": {
      "image/png": "[encoded data removed]",
      "text/plain": [
       "<matplotlib.figure.Figure at 0x1f84a481908>"
      ]
     },
     "metadata": {},
     "output_type": "display_data"
    }
   ],
   "source": [
    "%matplotlib inline\n",
    "import numpy as np\n",
    "import matplotlib.pyplot as plt\n",
    "plt.plot([np.mean(cost_values[i-50:i]) for i in range(len(cost_values))])\n",
    "plt.show()"
   ]
  }
 ],
 "metadata": {
  "kernelspec": {
   "display_name": "Python 3",
   "language": "python",
   "name": "python3"
  },
  "language_info": {
   "codemirror_mode": {
    "name": "ipython",
    "version": 3
   },
   "file_extension": ".py",
   "mimetype": "text/x-python",
   "name": "python",
   "nbconvert_exporter": "python",
   "pygments_lexer": "ipython3",
   "version": "3.6.4"
  }
 },
 "nbformat": 4,
 "nbformat_minor": 2
}
