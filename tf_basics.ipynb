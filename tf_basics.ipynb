{
 "cells": [
  {
   "cell_type": "code",
   "execution_count": 1,
   "metadata": {},
   "outputs": [
    {
     "name": "stderr",
     "output_type": "stream",
     "text": [
      "C:\\Users\\AkhouriAditya\\Anaconda2\\envs\\py36\\lib\\site-packages\\h5py\\__init__.py:36: FutureWarning: Conversion of the second argument of issubdtype from `float` to `np.floating` is deprecated. In future, it will be treated as `np.float64 == np.dtype(float).type`.\n",
      "  from ._conv import register_converters as _register_converters\n"
     ]
    }
   ],
   "source": [
    "import tensorflow as tf"
   ]
  },
  {
   "cell_type": "code",
   "execution_count": 3,
   "metadata": {},
   "outputs": [
    {
     "name": "stdout",
     "output_type": "stream",
     "text": [
      "[5]\n"
     ]
    }
   ],
   "source": [
    "a = tf.constant([2])\n",
    "b = tf.constant([3])\n",
    "c = a+b\n",
    "session = tf.Session()\n",
    "result  = session.run(c)\n",
    "print(result)"
   ]
  },
  {
   "cell_type": "code",
   "execution_count": 4,
   "metadata": {},
   "outputs": [
    {
     "name": "stdout",
     "output_type": "stream",
     "text": [
      "[5]\n"
     ]
    }
   ],
   "source": [
    "with tf.Session() as session:\n",
    "    result = session.run(c)\n",
    "    print(result)"
   ]
  },
  {
   "cell_type": "code",
   "execution_count": 11,
   "metadata": {},
   "outputs": [
    {
     "name": "stdout",
     "output_type": "stream",
     "text": [
      "The Multiplication of this two constants is: [5]\n"
     ]
    }
   ],
   "source": [
    "with tf.Session() as session:\n",
    "    result = session.run(c)\n",
    "    print (\"The Multiplication of this two constants is: {0}\".format(result))"
   ]
  },
  {
   "cell_type": "code",
   "execution_count": 13,
   "metadata": {},
   "outputs": [
    {
     "name": "stdout",
     "output_type": "stream",
     "text": [
      "The Multiplication of element wise op is: [[ 4  9]\n",
      " [ 9 16]]\n",
      "The Multiplication of two matrices is: [[13 18]\n",
      " [18 25]]\n"
     ]
    }
   ],
   "source": [
    "matrixA = tf.constant([[2,3],[3,4]])\n",
    "matrixB = tf.constant([[2,3],[3,4]])\n",
    "c = matrixA * matrixB\n",
    "firstOp = tf.multiply(matrixA, matrixB)\n",
    "secondOp = tf.matmul(matrixA, matrixB)\n",
    "with tf.Session() as session:\n",
    "    resultA = session.run(firstOp)\n",
    "    resultB = session.run(secondOp)\n",
    "    print (\"The Multiplication of element wise op is: {0}\".format(resultA))\n",
    "    print (\"The Multiplication of two matrices is: {0}\".format(resultB))"
   ]
  },
  {
   "cell_type": "code",
   "execution_count": 14,
   "metadata": {},
   "outputs": [],
   "source": [
    "a=tf.constant(1000)\n",
    "b=tf.Variable(0)\n",
    "init_op = tf.global_variables_initializer()"
   ]
  },
  {
   "cell_type": "code",
   "execution_count": 17,
   "metadata": {},
   "outputs": [
    {
     "name": "stdout",
     "output_type": "stream",
     "text": [
      "1000\n"
     ]
    }
   ],
   "source": [
    "update = tf.assign(b,a) #used to update the value of variable b with a\n",
    "with tf.Session() as session:\n",
    "    session.run(init_op)\n",
    "    session.run(update)\n",
    "    print(session.run(b))"
   ]
  },
  {
   "cell_type": "code",
   "execution_count": 22,
   "metadata": {},
   "outputs": [
    {
     "name": "stdout",
     "output_type": "stream",
     "text": [
      "[1, 1, 2, 3, 5, 8, 13, 21, 34, 55]\n"
     ]
    }
   ],
   "source": [
    "#Fibonacci sequence\n",
    "f = [tf.constant(1), tf.constant(1)]\n",
    "for i in range(2,10):\n",
    "    temp= f[i-1]+f[i-2]\n",
    "    f.append(temp)\n",
    "    \n",
    "with tf.Session() as sess:\n",
    "    result = sess.run(f)\n",
    "    print(result)\n",
    "\n"
   ]
  },
  {
   "cell_type": "code",
   "execution_count": 38,
   "metadata": {},
   "outputs": [
    {
     "name": "stdout",
     "output_type": "stream",
     "text": [
      "[-1.  0.  1.]\n"
     ]
    }
   ],
   "source": [
    "a=tf.placeholder(tf.float32)\n",
    "b=tf.placeholder(tf.float32)\n",
    "\n",
    "c=2*a -b\n",
    "\n",
    "dictionary = {a:[1,2,3],b:[3,4,5]}\n",
    "with tf.Session() as session:\n",
    "    print (session.run(c,feed_dict=dictionary))"
   ]
  },
  {
   "cell_type": "code",
   "execution_count": 39,
   "metadata": {},
   "outputs": [],
   "source": [
    "import numpy as np\n",
    "import pandas as pd\n",
    "import matplotlib.pyplot as plt"
   ]
  },
  {
   "cell_type": "code",
   "execution_count": 45,
   "metadata": {},
   "outputs": [
    {
     "name": "stderr",
     "output_type": "stream",
     "text": [
      "SYSTEM_WGETRC = c:/progra~1/wget/etc/wgetrc\n",
      "syswgetrc = C:\\Program Files (x86)\\Gow/etc/wgetrc\n",
      "wget: unable to resolve host address `c'\n",
      "WARNING: cannot verify ibm.box.com's certificate, issued by `/C=US/O=GeoTrust Inc./CN=GeoTrust SSL CA - G3':\n",
      "  Unable to locally verify the issuer's authority.\n",
      "WARNING: cannot verify ibm.ent.box.com's certificate, issued by `/C=US/O=GeoTrust Inc./CN=GeoTrust SSL CA - G3':\n",
      "  Unable to locally verify the issuer's authority.\n",
      "WARNING: cannot verify public.boxcloud.com's certificate, issued by `/C=US/O=GeoTrust Inc./CN=GeoTrust SSL CA - G3':\n",
      "  Unable to locally verify the issuer's authority.\n",
      "2018-02-19 19:13:27 URL:https://public.boxcloud.com/d/1/TK4WCfZysn1hjBLvNyZjyEGaexJai4U2UKGWi9zo0ToLIF7Eu-uN30DB8338H4ZOlkwpBGXEfnctn8ca9yDnUewlYrV_6Pj8rb7rtOorZCBb9bfN8EggoCAMW0zgSF54kThKD_8X25H7txVoS2iyT3xz83MzXz6p_-sLm6HfX8k_crALvCCyLCPEktIoyqfxmQlQGyYhqZVoRWGvIsSDEG2ziUMMYduRYBvX_wYjvJ-EcaYMgsIY-2LpyY1CvUG-9kCw_1kPx3xTDfctuLX7_aru7Bc6gK29kBYDW_k__hNIR8TPwOGs1ah-qT16wCzGvVZDVlGSKIr0i1ZVeev0DIdmDbhS8uHBEa8dQHmganjphr3RF5vVPYRrXIA_VoRfiFoKCCQS5CCqmqj1MtP45u4X6tVpG0B5v3vIwJY6We1M90e7_3KfeNGB78XzTiF0EwwySuc0oaogaTTrcf_z6MfagVljVmBhEihs91zQsFZjW0R9voyMRgTqzDLoobG6jhMzFdamvyIOyOm-Udbn64O-f8_K798_noyWTrLKjYJpjyNrCM0eGS5gChIJLRyKBTCKE2ZCZOf1--B7J-hZIl9BRsFthrhKkzaQACgO1Sn9FpK14vuKyjpPD5xyPbb6mflVHMXsPMFu-X2yk6hvhYnRb-QjzEZizY4AYawtjEOsgdbF2oU8qLYTyLUE-2VPhXtkPRSsI_0_JBjvmTzcp-IowEn-ZPGIgYpqQXA3VX9j6ApOsyIq5PqA3fewY7wJ1zCVD_OsrhNS_I-tB7LUqWofGj0BcV9St_T_vFE0CUm1HALDQIn3csir1WS1uXnM84h2Vmj-X47Tj5hwY_PCrj_JTahFNJuu4Ls66bVHkMY8tDu4wsrtOJRzVFa98O48bUzHM6J0MeksPET2nJe9hPVg8xnGsPv5oRcapHaYBYqmEnBfR1PLDdolDt1VjcfVrQFe9vYrVqmx6oZ6bdMXzicpR_dXA_qi1FYpzy5LN6UWtR8QscuVD5nYS6UCWGDD8Z_ClUdI8M0Rmobeqnf1u1OXCZbQ-Rs3AsYDAumOurbU3i6nHS4s_nqpLo_lV1v8FGXWvwHg0MNgyZPV7p_NV9kFoeSOhQZ08QIt7TlGr7WnDdnbw_oP5cZSzixbZb6LFbBIsiYvzfNDfbDPjZbB92aiRJWd7d-iaV6p-slmYloYxllCkjaqgne6fmHA9DQzp8A3_F2jpGszFwsw80a2DUYarzYlBx3pDtzrZN9UtbSV1_y3Di1Xdp7cANVy-4lrsn8HnOckXHfNjsVAZ6HovgrDTqoy5rlWs1JQQE5NpScX_YvXB0_56dkg6L7LOFdK8IkNnS3iZkR2p62IJqc./download [164/164] -> \"download\" [1]\n",
      "FINISHED --2018-02-19 19:13:27--\n",
      "Downloaded: 1 files, 164 in 0s (762 MB/s)\n"
     ]
    },
    {
     "data": {
      "text/html": [
       "<div>\n",
       "<style scoped>\n",
       "    .dataframe tbody tr th:only-of-type {\n",
       "        vertical-align: middle;\n",
       "    }\n",
       "\n",
       "    .dataframe tbody tr th {\n",
       "        vertical-align: top;\n",
       "    }\n",
       "\n",
       "    .dataframe thead th {\n",
       "        text-align: right;\n",
       "    }\n",
       "</style>\n",
       "<table border=\"1\" class=\"dataframe\">\n",
       "  <thead>\n",
       "    <tr style=\"text-align: right;\">\n",
       "      <th></th>\n",
       "      <th>Chirps</th>\n",
       "      <th>Temp</th>\n",
       "    </tr>\n",
       "  </thead>\n",
       "  <tbody>\n",
       "    <tr>\n",
       "      <th>0</th>\n",
       "      <td>20.0</td>\n",
       "      <td>88.6</td>\n",
       "    </tr>\n",
       "    <tr>\n",
       "      <th>1</th>\n",
       "      <td>16.0</td>\n",
       "      <td>71.6</td>\n",
       "    </tr>\n",
       "    <tr>\n",
       "      <th>2</th>\n",
       "      <td>19.8</td>\n",
       "      <td>93.3</td>\n",
       "    </tr>\n",
       "    <tr>\n",
       "      <th>3</th>\n",
       "      <td>18.4</td>\n",
       "      <td>84.3</td>\n",
       "    </tr>\n",
       "    <tr>\n",
       "      <th>4</th>\n",
       "      <td>17.1</td>\n",
       "      <td>80.6</td>\n",
       "    </tr>\n",
       "  </tbody>\n",
       "</table>\n",
       "</div>"
      ],
      "text/plain": [
       "   Chirps  Temp\n",
       "0    20.0  88.6\n",
       "1    16.0  71.6\n",
       "2    19.8  93.3\n",
       "3    18.4  84.3\n",
       "4    17.1  80.6"
      ]
     },
     "execution_count": 45,
     "metadata": {},
     "output_type": "execute_result"
    }
   ],
   "source": [
    "#downloading dataset\n",
    "!wget -nv C:\\Users\\AkhouriAditya\\Documents\\fidelity\\data\\PierceCricketData.csv --no-check-certificate https://ibm.box.com/shared/static/reyjo1hk43m2x79nreywwfwcdd5yi8zu.csv\n",
    "\n",
    "\n",
    "df = pd.read_csv(\"C:\\\\Users\\\\AkhouriAditya\\\\Documents\\\\fidelity\\\\data\\\\PierceCricketData.csv\")\n",
    "df.head()"
   ]
  },
  {
   "cell_type": "code",
   "execution_count": 58,
   "metadata": {},
   "outputs": [
    {
     "data": {
      "image/png": "[encoded data removed]",
      "text/plain": [
       "<matplotlib.figure.Figure at 0x20596e31f28>"
      ]
     },
     "metadata": {},
     "output_type": "display_data"
    }
   ],
   "source": [
    "%matplotlib inline\n",
    "\n",
    "x_data, y_data = (df[\"Chirps\"].values,df[\"Temp\"].values)\n",
    "fit = np.polyfit(x_data, y_data, deg=1)\n",
    "\n",
    "# plots the data points\n",
    "ax = df.plot(kind='scatter', x='Chirps', y='Temp', figsize=(10, 6), color='darkblue')\n",
    "# label the axis\n",
    "plt.xlabel(\"# Chirps per 15 sec\")\n",
    "plt.ylabel(\"Temp in Farenhiet\")\n",
    "\n",
    "plt.plot(x_data,fit[0]*x_data + fit[1], color='red') # recall that x is the Years\n",
    "plt.annotate('y={0:.0f} x + {1:.0f}'.format(fit[0], fit[1]), xy=(18, 80))\n",
    "\n",
    "#df.plot.line(x='Chirps', y='Temp', ax=ax, style='b')\n",
    "\n",
    "plt.show()"
   ]
  },
  {
   "cell_type": "code",
   "execution_count": 61,
   "metadata": {},
   "outputs": [],
   "source": [
    "X = tf.placeholder(tf.float32, shape=(x_data.size))\n",
    "Y = tf.placeholder(tf.float32,shape=(y_data.size))\n",
    "# the copy to relfect any changes in the variable values through out the scope of the tensorflow session\n",
    "m = tf.Variable(3.0)\n",
    "c = tf.Variable(2.0)\n",
    "# Construct a Model\n",
    "Ypred = tf.add(tf.multiply(X, m), c)"
   ]
  },
  {
   "cell_type": "code",
   "execution_count": 69,
   "metadata": {},
   "outputs": [],
   "source": [
    "#create session and initialize variables\n",
    "session = tf.Session()\n",
    "session.run(tf.global_variables_initializer())"
   ]
  },
  {
   "cell_type": "code",
   "execution_count": 70,
   "metadata": {},
   "outputs": [
    {
     "data": {
      "text/plain": [
       "Text(0,0.5,'Temp in Farenhiet')"
      ]
     },
     "execution_count": 70,
     "metadata": {},
     "output_type": "execute_result"
    },
    {
     "data": {
      "image/png": "[encoded data removed]",
      "text/plain": [
       "<matplotlib.figure.Figure at 0x20596d476a0>"
      ]
     },
     "metadata": {},
     "output_type": "display_data"
    }
   ],
   "source": [
    "pred = session.run(Ypred, feed_dict={X:x_data})\n",
    "\n",
    "#plot initial prediction against datapoints\n",
    "plt.plot(x_data, pred)\n",
    "plt.plot(x_data, y_data, 'ro')\n",
    "# label the axis\n",
    "plt.xlabel(\"# Chirps per 15 sec\")\n",
    "plt.ylabel(\"Temp in Farenhiet\")"
   ]
  },
  {
   "cell_type": "code",
   "execution_count": 71,
   "metadata": {},
   "outputs": [],
   "source": [
    "# normalization factor\n",
    "nf = 1e-1\n",
    "# seting up the loss function\n",
    "loss = tf.reduce_mean(tf.squared_difference(Ypred*nf,Y*nf))"
   ]
  },
  {
   "cell_type": "code",
   "execution_count": 72,
   "metadata": {},
   "outputs": [],
   "source": [
    "optimizer = tf.train.GradientDescentOptimizer(learning_rate=0.01)\n",
    "#optimizer = tf.train.AdagradOptimizer(0.01 )\n",
    "\n",
    "# pass the loss function that optimizer should optimize on.\n",
    "train = optimizer.minimize(loss)"
   ]
  },
  {
   "cell_type": "code",
   "execution_count": 73,
   "metadata": {},
   "outputs": [],
   "source": [
    "session.run(tf.global_variables_initializer())"
   ]
  },
  {
   "cell_type": "code",
   "execution_count": 74,
   "metadata": {},
   "outputs": [
    {
     "name": "stdout",
     "output_type": "stream",
     "text": [
      "Finished by Convergence Criterion\n",
      "81\n",
      "0.18440054\n"
     ]
    }
   ],
   "source": [
    "convergenceTolerance = 0.0001\n",
    "previous_m = np.inf\n",
    "previous_c = np.inf\n",
    "\n",
    "steps = {}\n",
    "steps['m'] = []\n",
    "steps['c'] = []\n",
    "\n",
    "losses=[]\n",
    "\n",
    "for k in range(100000):\n",
    "   ########## Your Code goes Here ###########\n",
    "    _, _m , _c,_l = session.run([train, m, c,loss],feed_dict={X:x_data,Y:y_data})\n",
    "    steps['m'].append(_m)\n",
    "    steps['c'].append(_c)\n",
    "    losses.append(_l)\n",
    "    if (np.abs(previous_m - _m) <= convergenceTolerance) or (np.abs(previous_c - _c) <= convergenceTolerance):\n",
    "        print (\"Finished by Convergence Criterion\")\n",
    "        print (k)\n",
    "        print (_l)\n",
    "        break\n",
    "    previous_m = _m, \n",
    "    previous_c = _c, \n",
    "    \n",
    "session.close() "
   ]
  },
  {
   "cell_type": "code",
   "execution_count": 75,
   "metadata": {},
   "outputs": [
    {
     "data": {
      "text/plain": [
       "[<matplotlib.lines.Line2D at 0x20595a5f588>]"
      ]
     },
     "execution_count": 75,
     "metadata": {},
     "output_type": "execute_result"
    },
    {
     "data": {
      "image/png": "[encoded data removed]",
      "text/plain": [
       "<matplotlib.figure.Figure at 0x20596d3c978>"
      ]
     },
     "metadata": {},
     "output_type": "display_data"
    }
   ],
   "source": [
    "plt.plot(losses[:])"
   ]
  },
  {
   "cell_type": "code",
   "execution_count": 2,
   "metadata": {},
   "outputs": [
    {
     "name": "stdout",
     "output_type": "stream",
     "text": [
      "b'Hello, TensorFlow!'\n"
     ]
    }
   ],
   "source": [
    "hello = tf.constant('Hello, TensorFlow!')\n",
    "sess = tf.Session()\n",
    "print(sess.run(hello))"
   ]
  },
  {
   "cell_type": "code",
   "execution_count": 3,
   "metadata": {},
   "outputs": [
    {
     "data": {
      "text/plain": [
       "(<tf.Tensor 'zeros:0' shape=(2, 4) dtype=float32>,\n",
       " <tf.Tensor 'zeros:0' shape=(2, 4) dtype=float32>)"
      ]
     },
     "execution_count": 3,
     "metadata": {},
     "output_type": "execute_result"
    }
   ],
   "source": [
    "import numpy as np\n",
    "LSTM_CELL_SIZE = 4  # output size (dimension), which is same as hidden size in the cell\n",
    "lstm_cell = tf.contrib.rnn.BasicLSTMCell(LSTM_CELL_SIZE, state_is_tuple=True)\n",
    "state = (tf.zeros([2,LSTM_CELL_SIZE]),)*2\n",
    "state"
   ]
  },
  {
   "cell_type": "code",
   "execution_count": 4,
   "metadata": {},
   "outputs": [
    {
     "name": "stdout",
     "output_type": "stream",
     "text": [
      "[[1. 2. 3. 4. 3. 2.]\n",
      " [3. 2. 2. 2. 2. 2.]]\n"
     ]
    }
   ],
   "source": [
    "sample_input = tf.constant([[1,2,3,4,3,2],[3,2,2,2,2,2]],dtype=tf.float32)\n",
    "print (sess.run(sample_input))"
   ]
  },
  {
   "cell_type": "code",
   "execution_count": 5,
   "metadata": {},
   "outputs": [
    {
     "name": "stdout",
     "output_type": "stream",
     "text": [
      "LSTMStateTuple(c=array([[-0.395452  ,  0.5808035 , -0.03769115,  0.7500076 ],\n",
      "       [-0.36502987,  0.73099   , -0.08001775,  0.5641742 ]],\n",
      "      dtype=float32), h=array([[-0.14694393,  0.01968188, -0.03688967,  0.47338507],\n",
      "       [-0.07165978,  0.03890254, -0.06874768,  0.42081547]],\n",
      "      dtype=float32))\n"
     ]
    }
   ],
   "source": [
    "with tf.variable_scope(\"LSTM_sample1\"):\n",
    "    output, state_new = lstm_cell(sample_input, state)\n",
    "sess.run(tf.global_variables_initializer())\n",
    "print (sess.run(state_new))"
   ]
  },
  {
   "cell_type": "code",
   "execution_count": 34,
   "metadata": {},
   "outputs": [],
   "source": [
    "import pandas as pd\n",
    "train = pd.read_csv(\"C:\\\\Users\\\\AkhouriAditya\\\\Documents\\\\fidelity\\\\data\\\\iris_training.csv\", header=0)\n",
    "test = pd.read_csv(\"C:\\\\Users\\\\AkhouriAditya\\\\Documents\\\\fidelity\\\\data\\\\iris_test.csv\", header=0)\n",
    "train.columns = ['SepalLength', 'SepalWidth','PetalLength', 'PetalWidth', 'Species']\n",
    "test.columns = ['SepalLength', 'SepalWidth','PetalLength', 'PetalWidth', 'Species']"
   ]
  },
  {
   "cell_type": "code",
   "execution_count": 35,
   "metadata": {},
   "outputs": [],
   "source": [
    "#train.columns\n",
    "train_features, train_label = train, train.pop(label_name)\n",
    "test_features, test_label = test, test.pop(label_name)"
   ]
  },
  {
   "cell_type": "code",
   "execution_count": 39,
   "metadata": {},
   "outputs": [],
   "source": [
    "# Create feature columns for all features.\n",
    "my_feature_columns = []\n",
    "for key in train_features.keys():\n",
    "    my_feature_columns.append(tf.feature_column.numeric_column(key=key))"
   ]
  },
  {
   "cell_type": "code",
   "execution_count": 50,
   "metadata": {},
   "outputs": [],
   "source": [
    "def train_input_fn(features, labels, batch_size):\n",
    "    dataset = tf.data.Dataset.from_tensor_slices((dict(features), labels))\n",
    "    dataset = dataset.shuffle(buffer_size=1000).repeat(count=None).batch(batch_size)\n",
    "    return dataset.make_one_shot_iterator().get_next()"
   ]
  },
  {
   "cell_type": "code",
   "execution_count": 62,
   "metadata": {},
   "outputs": [],
   "source": [
    "def eval_input_fn(features, labels=None, batch_size=None):\n",
    "    \"\"\"An input function for evaluation or prediction\"\"\"\n",
    "    if labels is None:\n",
    "        # No labels, use only features.\n",
    "        inputs = dict(features)\n",
    "    else:\n",
    "        inputs = (dict(features), labels)\n",
    "\n",
    "    # Convert inputs to a tf.dataset object.\n",
    "    dataset = tf.data.Dataset.from_tensor_slices(inputs)\n",
    "\n",
    "    # Batch the examples\n",
    "    assert batch_size is not None, \"batch_size must not be None\"\n",
    "    dataset = dataset.batch(batch_size)\n",
    "\n",
    "    # Return the read end of the pipeline.\n",
    "    return dataset.make_one_shot_iterator().get_next()"
   ]
  },
  {
   "cell_type": "code",
   "execution_count": 69,
   "metadata": {},
   "outputs": [
    {
     "name": "stdout",
     "output_type": "stream",
     "text": [
      "INFO:tensorflow:Using default config.\n",
      "WARNING:tensorflow:Using temporary folder as model directory: C:\\Users\\AKHOUR~1\\AppData\\Local\\Temp\\tmp8lz7fc5v\n",
      "INFO:tensorflow:Using config: {'_model_dir': 'C:\\\\Users\\\\AKHOUR~1\\\\AppData\\\\Local\\\\Temp\\\\tmp8lz7fc5v', '_tf_random_seed': None, '_save_summary_steps': 100, '_save_checkpoints_steps': None, '_save_checkpoints_secs': 600, '_session_config': None, '_keep_checkpoint_max': 5, '_keep_checkpoint_every_n_hours': 10000, '_log_step_count_steps': 100, '_service': None, '_cluster_spec': <tensorflow.python.training.server_lib.ClusterSpec object at 0x000002005FF8C668>, '_task_type': 'worker', '_task_id': 0, '_master': '', '_is_chief': True, '_num_ps_replicas': 0, '_num_worker_replicas': 1}\n",
      "INFO:tensorflow:Create CheckpointSaverHook.\n",
      "INFO:tensorflow:Saving checkpoints for 1 into C:\\Users\\AKHOUR~1\\AppData\\Local\\Temp\\tmp8lz7fc5v\\model.ckpt.\n",
      "INFO:tensorflow:loss = 0.91697836, step = 1\n",
      "INFO:tensorflow:global_step/sec: 625.685\n",
      "INFO:tensorflow:loss = 0.44844663, step = 101 (0.160 sec)\n",
      "INFO:tensorflow:global_step/sec: 651.54\n",
      "INFO:tensorflow:loss = 0.05495689, step = 201 (0.153 sec)\n",
      "INFO:tensorflow:global_step/sec: 645.252\n",
      "INFO:tensorflow:loss = 0.81321925, step = 301 (0.155 sec)\n",
      "INFO:tensorflow:global_step/sec: 767.356\n",
      "INFO:tensorflow:loss = 0.19034766, step = 401 (0.130 sec)\n",
      "INFO:tensorflow:global_step/sec: 849.048\n",
      "INFO:tensorflow:loss = 0.70453465, step = 501 (0.118 sec)\n",
      "INFO:tensorflow:global_step/sec: 843.94\n",
      "INFO:tensorflow:loss = 0.34129384, step = 601 (0.118 sec)\n",
      "INFO:tensorflow:global_step/sec: 855.174\n",
      "INFO:tensorflow:loss = 0.009659101, step = 701 (0.117 sec)\n",
      "INFO:tensorflow:global_step/sec: 810.539\n",
      "INFO:tensorflow:loss = 0.0028318563, step = 801 (0.123 sec)\n",
      "INFO:tensorflow:global_step/sec: 860.262\n",
      "INFO:tensorflow:loss = 0.008284726, step = 901 (0.116 sec)\n",
      "INFO:tensorflow:Saving checkpoints for 1000 into C:\\Users\\AKHOUR~1\\AppData\\Local\\Temp\\tmp8lz7fc5v\\model.ckpt.\n",
      "INFO:tensorflow:Loss for final step: 0.0015117418.\n"
     ]
    },
    {
     "data": {
      "text/plain": [
       "<tensorflow.python.estimator.canned.dnn.DNNClassifier at 0x2005ff8c5c0>"
      ]
     },
     "execution_count": 69,
     "metadata": {},
     "output_type": "execute_result"
    }
   ],
   "source": [
    "classifier = tf.estimator.DNNClassifier(feature_columns=my_feature_columns,hidden_units=[10, 10],n_classes=3)\n",
    "classifier.train(input_fn=lambda:train_input_fn(train_features, train_label, 1),steps=1000)"
   ]
  },
  {
   "cell_type": "code",
   "execution_count": 70,
   "metadata": {},
   "outputs": [
    {
     "name": "stdout",
     "output_type": "stream",
     "text": [
      "INFO:tensorflow:Starting evaluation at 2018-02-15-20:28:48\n",
      "INFO:tensorflow:Restoring parameters from C:\\Users\\AKHOUR~1\\AppData\\Local\\Temp\\tmp8lz7fc5v\\model.ckpt-1000\n",
      "INFO:tensorflow:Finished evaluation at 2018-02-15-20:28:48\n",
      "INFO:tensorflow:Saving dict for global step 1000: accuracy = 0.96666664, average_loss = 0.30216143, global_step = 1000, loss = 0.30216143\n",
      "\n",
      "Test set accuracy: 0.967\n",
      "\n"
     ]
    }
   ],
   "source": [
    "eval_result = classifier.evaluate(input_fn=lambda:eval_input_fn(test_features, test_label, 1))\n",
    "print('\\nTest set accuracy: {accuracy:0.3f}\\n'.format(**eval_result))"
   ]
  },
  {
   "cell_type": "code",
   "execution_count": 71,
   "metadata": {},
   "outputs": [],
   "source": [
    "predict_x = {\n",
    "        'SepalLength': [5.1, 5.9, 6.9],\n",
    "        'SepalWidth': [3.3, 3.0, 3.1],\n",
    "        'PetalLength': [1.7, 4.2, 5.4],\n",
    "        'PetalWidth': [0.5, 1.5, 2.1],\n",
    "    }"
   ]
  },
  {
   "cell_type": "code",
   "execution_count": 72,
   "metadata": {},
   "outputs": [
    {
     "data": {
      "text/plain": [
       "{'PetalLength': [1.7, 4.2, 5.4],\n",
       " 'PetalWidth': [0.5, 1.5, 2.1],\n",
       " 'SepalLength': [5.1, 5.9, 6.9],\n",
       " 'SepalWidth': [3.3, 3.0, 3.1]}"
      ]
     },
     "execution_count": 72,
     "metadata": {},
     "output_type": "execute_result"
    }
   ],
   "source": [
    "predict_x"
   ]
  },
  {
   "cell_type": "code",
   "execution_count": 121,
   "metadata": {},
   "outputs": [],
   "source": [
    "predictions = classifier.predict(input_fn=lambda:eval_input_fn(predict_x, batch_size=1))"
   ]
  },
  {
   "cell_type": "code",
   "execution_count": 122,
   "metadata": {},
   "outputs": [
    {
     "name": "stdout",
     "output_type": "stream",
     "text": [
      "INFO:tensorflow:Restoring parameters from C:\\Users\\AKHOUR~1\\AppData\\Local\\Temp\\tmp8lz7fc5v\\model.ckpt-1000\n",
      "logits 3.2046704\n",
      "probabilities 0.9935875\n",
      "class_ids 0\n",
      "classes b'0'\n",
      "logits 0.715932\n",
      "probabilities 0.6342032\n",
      "class_ids 1\n",
      "classes b'1'\n",
      "logits 1.420732\n",
      "probabilities 0.73863524\n",
      "class_ids 2\n",
      "classes b'2'\n"
     ]
    }
   ],
   "source": [
    "for i in predictions:\n",
    "    for key,val in i.items():\n",
    "        print(key, max(val))"
   ]
  },
  {
   "cell_type": "code",
   "execution_count": 125,
   "metadata": {},
   "outputs": [],
   "source": [
    "# Represent a 10-element vector in which each cell contains a tf.float32.\n",
    "vector_feature_column = tf.feature_column.numeric_column(key=\"Bowling\",\\\n",
    "                                                         shape=10)\n",
    "\n",
    "# Represent a 10x5 matrix in which each cell contains a tf.float32.\n",
    "matrix_feature_column = tf.feature_column.numeric_column(key=\"MyMatrix\",\\\n",
    "                                                         shape=[10,5])"
   ]
  },
  {
   "cell_type": "code",
   "execution_count": 126,
   "metadata": {},
   "outputs": [
    {
     "data": {
      "text/plain": [
       "_NumericColumn(key='MyMatrix', shape=(10, 5), default_value=None, dtype=tf.float32, normalizer_fn=None)"
      ]
     },
     "execution_count": 126,
     "metadata": {},
     "output_type": "execute_result"
    }
   ],
   "source": [
    "matrix_feature_column"
   ]
  },
  {
   "cell_type": "code",
   "execution_count": 127,
   "metadata": {},
   "outputs": [],
   "source": [
    "numeric_feature_column = tf.feature_column.numeric_column(\"Year\")\n",
    "bucketized_feature_column = tf.feature_column.bucketized_column(source_column = numeric_feature_column,boundaries = [1960, 1980, 2000])"
   ]
  },
  {
   "cell_type": "code",
   "execution_count": 128,
   "metadata": {},
   "outputs": [],
   "source": [
    "identity_feature_column = tf.feature_column.categorical_column_with_identity(key='my_feature_b',num_buckets=4)\n",
    "def input_fn():\n",
    "    return ({ 'my_feature_a':[7, 9, 5, 2], 'my_feature_b':[3, 1, 2, 2] },[Label_values])"
   ]
  },
  {
   "cell_type": "code",
   "execution_count": 129,
   "metadata": {},
   "outputs": [],
   "source": [
    "vocabulary_feature_column =tf.feature_column.categorical_column_with_vocabulary_list(\\\n",
    "                   key=\"a feature returned by input_fn()\",vocabulary_list=[\"kitchenware\", \"electronics\", \"sports\"])"
   ]
  }
 ],
 "metadata": {
  "kernelspec": {
   "display_name": "Python 3",
   "language": "python",
   "name": "python3"
  },
  "language_info": {
   "codemirror_mode": {
    "name": "ipython",
    "version": 3
   },
   "file_extension": ".py",
   "mimetype": "text/x-python",
   "name": "python",
   "nbconvert_exporter": "python",
   "pygments_lexer": "ipython3",
   "version": "3.6.4"
  }
 },
 "nbformat": 4,
 "nbformat_minor": 2
}
